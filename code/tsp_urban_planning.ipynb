{
  "cells": [
    {
      "cell_type": "code",
      "execution_count": null,
      "metadata": {
        "id": "5oNZMc2WkH6R"
      },
      "outputs": [],
      "source": [
        "import os\n",
        "import random\n",
        "import time\n",
        "\n",
        "import matplotlib.pyplot as plt\n",
        "import numpy as np\n",
        "import pandas as pd\n",
        "\n",
        "from decimal import Decimal\n",
        "from itertools import combinations,permutations,product\n",
        "from scipy.spatial import distance_matrix"
      ]
    },
    {
      "cell_type": "code",
      "execution_count": null,
      "metadata": {
        "id": "kzwppL5qkH6V"
      },
      "outputs": [],
      "source": [
        "class TSP:\n",
        "  def __init__(self):\n",
        "    pass\n",
        "\n",
        "  def get_distance(self,distance_matrix,start_node,end_node):\n",
        "      \"\"\"Get the distance between two speicified locations\"\"\"\n",
        "      return distance_matrix[start_node][end_node]\n",
        "      \n",
        "  def get_total_dist(self,distance_matrix,seq):\n",
        "      \"\"\"Get the total distance of a route\"\"\"\n",
        "      total_dist = sum([self.get_distance(distance_matrix,seq[i],seq[i+1]) for i in range(len(seq)-1)])\n",
        "      total_dist += self.get_distance(distance_matrix,0,seq[0])+self.get_distance(distance_matrix,0,seq[-1])\n",
        "      return total_dist\n",
        "\n",
        "  # Brute force method\n",
        "  def brute_force(self,distance_matrix):\n",
        "      \"\"\"Get the optimal route by calculating the total travel distance for all possibilities\"\"\"\n",
        "      \n",
        "      dim = distance_matrix.shape[0]\n",
        "      # Dictionary of candidate routes and their corresponding total distances\n",
        "      total_dists = {}\n",
        "      # Note that the start should be the first and the last location\n",
        "      for i in permutations(range(1,dim),dim-1):\n",
        "          # Initialize total distance of candidate route\n",
        "          total_dist = 0\n",
        "          # Get the sequence of locations to visit\n",
        "          seq = list(i)\n",
        "          for j in range(len(seq)-1):\n",
        "              dist = self.get_distance(distance_matrix,seq[j],seq[j+1])\n",
        "              total_dist += dist\n",
        "          # Add distance between the start and the first location\n",
        "          total_dist += self.get_distance(distance_matrix,0,seq[0])\n",
        "          # Add distance between the start and the last location\n",
        "          total_dist += self.get_distance(distance_matrix,0,seq[-1])\n",
        "          total_dists[f'{seq}'] = total_dist\n",
        "          \n",
        "      # Get the optimal customer sequence\n",
        "      best_route = min(total_dists,key=total_dists.get)\n",
        "      min_dist =total_dists[best_route]\n",
        "      # Add start to the start and the end of the sequence\n",
        "      best_route = [0]+[int(i) for i in best_route if i not in ['[',']',' ',',']]+[0] \n",
        "      \n",
        "      return best_route,min_dist"
      ]
    },
    {
      "cell_type": "markdown",
      "source": [
        "### Low Dimensional Cases"
      ],
      "metadata": {
        "id": "YBjXDKEg6lFy"
      }
    },
    {
      "cell_type": "code",
      "source": [
        "# Generate some sample data points\n",
        "x_cor_inner = [5,7,9,7]\n",
        "y_cor_inner = [5,3,5,7]\n",
        "\n",
        "x_cor_outer = [1,7,15,6]\n",
        "y_cor_outer = [4,1,8,9]\n",
        "\n",
        "x_cor = x_cor_inner+x_cor_outer\n",
        "y_cor = y_cor_inner+y_cor_outer\n",
        "\n",
        "labels = ['A','B','C','D','E','F','G','H']"
      ],
      "metadata": {
        "id": "4ZUN95s1uk9z"
      },
      "execution_count": null,
      "outputs": []
    },
    {
      "cell_type": "code",
      "source": [
        "# Visualize the locations of the sample data\n",
        "for i in range(4):\n",
        "  if i==0:\n",
        "    plt.plot([x_cor_inner[i],x_cor_inner[-1]],[y_cor_inner[i],y_cor_inner[-1]],'ro-',label='inner')\n",
        "    plt.plot([x_cor_outer[i],x_cor_outer[-1]],[y_cor_outer[i],y_cor_outer[-1]],'go-',label='outer')\n",
        "  plt.plot(x_cor_inner[i:i+2],y_cor_inner[i:i+2],'ro-')\n",
        "  plt.plot(x_cor_outer[i:i+2],y_cor_outer[i:i+2],'go-')\n",
        "\n",
        "pair1 = [labels.index('A'),labels.index('E')]\n",
        "pair2 = [labels.index('B'),labels.index('F')]\n",
        "pair3 = [labels.index('C'),labels.index('G')]\n",
        "pair4 = [labels.index('D'),labels.index('H')]\n",
        "pair5 = [labels.index('A'),labels.index('F')]\n",
        "pair6 = [labels.index('B'),labels.index('G')]\n",
        "pair7 = [labels.index('C'),labels.index('H')]\n",
        "pair8 = [labels.index('D'),labels.index('E')]\n",
        "\n",
        "for p in [pair1,pair2,pair3,pair4,pair5,pair6,pair7,pair8]:\n",
        "  plt.plot([x_cor[p[0]],x_cor[p[1]]],[y_cor[p[0]],y_cor[p[1]]],'ko--',alpha=0.5)\n",
        "\n",
        "for i,label in enumerate(labels):\n",
        "  plt.annotate(label,(x_cor[i],y_cor[i]),xytext=(x_cor[i],y_cor[i]+0.3))\n",
        "\n",
        "plt.xlim(0,max(x_cor)*1.1)\n",
        "plt.ylim(0,max(y_cor)*1.1)\n",
        "\n",
        "plt.legend()\n",
        "plt.show()"
      ],
      "metadata": {
        "colab": {
          "base_uri": "https://localhost:8080/",
          "height": 265
        },
        "id": "du_Lb3Pvrj4e",
        "outputId": "575f12fe-90a5-41f4-9591-11749cfe45b2"
      },
      "execution_count": null,
      "outputs": [
        {
          "output_type": "display_data",
          "data": {
            "text/plain": [
              "<Figure size 432x288 with 1 Axes>"
            ],
            "image/png": "[encoded data removed]"
          },
          "metadata": {
            "needs_background": "light"
          }
        }
      ]
    },
    {
      "cell_type": "markdown",
      "source": [
        "The red lines form an inner loop while the green lines form an outer loop (Consider the Harare example in the paper). The loops can be connected by adding lines between any pairs of nodes from the two loops."
      ],
      "metadata": {
        "id": "Rb7KIPkR4WBK"
      }
    },
    {
      "cell_type": "code",
      "source": [
        "# Get the distance matrix\n",
        "points = [[x_cor[i],y_cor[i]] for i in range(8)]\n",
        "dm_full = distance_matrix(points,points)\n",
        "df_dm = pd.DataFrame(dm_full,columns=labels,index=labels)"
      ],
      "metadata": {
        "id": "erVI95exrstv"
      },
      "execution_count": null,
      "outputs": []
    },
    {
      "cell_type": "markdown",
      "source": [
        "**Unconstrained Problem**"
      ],
      "metadata": {
        "id": "FNHyYatFN6q_"
      }
    },
    {
      "cell_type": "code",
      "source": [
        "df_dm_full = df_dm.copy()\n",
        "df_dm_full"
      ],
      "metadata": {
        "colab": {
          "base_uri": "https://localhost:8080/",
          "height": 297
        },
        "id": "1KXIl1q9sSOO",
        "outputId": "b08e6ccf-a9a7-44b2-814a-7fe04b042d34"
      },
      "execution_count": null,
      "outputs": [
        {
          "output_type": "execute_result",
          "data": {
            "text/plain": [
              "           A         B         C         D          E          F          G  \\\n",
              "A   0.000000  2.828427  4.000000  2.828427   4.123106   4.472136  10.440307   \n",
              "B   2.828427  0.000000  2.828427  4.000000   6.082763   2.000000   9.433981   \n",
              "C   4.000000  2.828427  0.000000  2.828427   8.062258   4.472136   6.708204   \n",
              "D   2.828427  4.000000  2.828427  0.000000   6.708204   6.000000   8.062258   \n",
              "E   4.123106  6.082763  8.062258  6.708204   0.000000   6.708204  14.560220   \n",
              "F   4.472136  2.000000  4.472136  6.000000   6.708204   0.000000  10.630146   \n",
              "G  10.440307  9.433981  6.708204  8.062258  14.560220  10.630146   0.000000   \n",
              "H   4.000000  6.324555  5.656854  2.828427   6.403124   8.246211  10.049876   \n",
              "\n",
              "           H  \n",
              "A   4.000000  \n",
              "B   6.324555  \n",
              "C   5.656854  \n",
              "D   2.828427  \n",
              "E   6.403124  \n",
              "F   8.246211  \n",
              "G  10.049876  \n",
              "H   0.000000  "
            ],
            "text/html": [
              "\n",
              "  <div id=\"df-8c1bca21-719f-43b8-b2ac-01c3f470675e\">\n",
              "    <div class=\"colab-df-container\">\n",
              "      <div>\n",
              "<style scoped>\n",
              "    .dataframe tbody tr th:only-of-type {\n",
              "        vertical-align: middle;\n",
              "    }\n",
              "\n",
              "    .dataframe tbody tr th {\n",
              "        vertical-align: top;\n",
              "    }\n",
              "\n",
              "    .dataframe thead th {\n",
              "        text-align: right;\n",
              "    }\n",
              "</style>\n",
              "<table border=\"1\" class=\"dataframe\">\n",
              "  <thead>\n",
              "    <tr style=\"text-align: right;\">\n",
              "      <th></th>\n",
              "      <th>A</th>\n",
              "      <th>B</th>\n",
              "      <th>C</th>\n",
              "      <th>D</th>\n",
              "      <th>E</th>\n",
              "      <th>F</th>\n",
              "      <th>G</th>\n",
              "      <th>H</th>\n",
              "    </tr>\n",
              "  </thead>\n",
              "  <tbody>\n",
              "    <tr>\n",
              "      <th>A</th>\n",
              "      <td>0.000000</td>\n",
              "      <td>2.828427</td>\n",
              "      <td>4.000000</td>\n",
              "      <td>2.828427</td>\n",
              "      <td>4.123106</td>\n",
              "      <td>4.472136</td>\n",
              "      <td>10.440307</td>\n",
              "      <td>4.000000</td>\n",
              "    </tr>\n",
              "    <tr>\n",
              "      <th>B</th>\n",
              "      <td>2.828427</td>\n",
              "      <td>0.000000</td>\n",
              "      <td>2.828427</td>\n",
              "      <td>4.000000</td>\n",
              "      <td>6.082763</td>\n",
              "      <td>2.000000</td>\n",
              "      <td>9.433981</td>\n",
              "      <td>6.324555</td>\n",
              "    </tr>\n",
              "    <tr>\n",
              "      <th>C</th>\n",
              "      <td>4.000000</td>\n",
              "      <td>2.828427</td>\n",
              "      <td>0.000000</td>\n",
              "      <td>2.828427</td>\n",
              "      <td>8.062258</td>\n",
              "      <td>4.472136</td>\n",
              "      <td>6.708204</td>\n",
              "      <td>5.656854</td>\n",
              "    </tr>\n",
              "    <tr>\n",
              "      <th>D</th>\n",
              "      <td>2.828427</td>\n",
              "      <td>4.000000</td>\n",
              "      <td>2.828427</td>\n",
              "      <td>0.000000</td>\n",
              "      <td>6.708204</td>\n",
              "      <td>6.000000</td>\n",
              "      <td>8.062258</td>\n",
              "      <td>2.828427</td>\n",
              "    </tr>\n",
              "    <tr>\n",
              "      <th>E</th>\n",
              "      <td>4.123106</td>\n",
              "      <td>6.082763</td>\n",
              "      <td>8.062258</td>\n",
              "      <td>6.708204</td>\n",
              "      <td>0.000000</td>\n",
              "      <td>6.708204</td>\n",
              "      <td>14.560220</td>\n",
              "      <td>6.403124</td>\n",
              "    </tr>\n",
              "    <tr>\n",
              "      <th>F</th>\n",
              "      <td>4.472136</td>\n",
              "      <td>2.000000</td>\n",
              "      <td>4.472136</td>\n",
              "      <td>6.000000</td>\n",
              "      <td>6.708204</td>\n",
              "      <td>0.000000</td>\n",
              "      <td>10.630146</td>\n",
              "      <td>8.246211</td>\n",
              "    </tr>\n",
              "    <tr>\n",
              "      <th>G</th>\n",
              "      <td>10.440307</td>\n",
              "      <td>9.433981</td>\n",
              "      <td>6.708204</td>\n",
              "      <td>8.062258</td>\n",
              "      <td>14.560220</td>\n",
              "      <td>10.630146</td>\n",
              "      <td>0.000000</td>\n",
              "      <td>10.049876</td>\n",
              "    </tr>\n",
              "    <tr>\n",
              "      <th>H</th>\n",
              "      <td>4.000000</td>\n",
              "      <td>6.324555</td>\n",
              "      <td>5.656854</td>\n",
              "      <td>2.828427</td>\n",
              "      <td>6.403124</td>\n",
              "      <td>8.246211</td>\n",
              "      <td>10.049876</td>\n",
              "      <td>0.000000</td>\n",
              "    </tr>\n",
              "  </tbody>\n",
              "</table>\n",
              "</div>\n",
              "      <button class=\"colab-df-convert\" onclick=\"convertToInteractive('df-8c1bca21-719f-43b8-b2ac-01c3f470675e')\"\n",
              "              title=\"Convert this dataframe to an interactive table.\"\n",
              "              style=\"display:none;\">\n",
              "        \n",
              "  <svg xmlns=\"http://www.w3.org/2000/svg\" height=\"24px\"viewBox=\"0 0 24 24\"\n",
              "       width=\"24px\">\n",
              "    <path d=\"M0 0h24v24H0V0z\" fill=\"none\"/>\n",
              "    <path d=\"M18.56 5.44l.94 2.06.94-2.06 2.06-.94-2.06-.94-.94-2.06-.94 2.06-2.06.94zm-11 1L8.5 8.5l.94-2.06 2.06-.94-2.06-.94L8.5 2.5l-.94 2.06-2.06.94zm10 10l.94 2.06.94-2.06 2.06-.94-2.06-.94-.94-2.06-.94 2.06-2.06.94z\"/><path d=\"M17.41 7.96l-1.37-1.37c-.4-.4-.92-.59-1.43-.59-.52 0-1.04.2-1.43.59L10.3 9.45l-7.72 7.72c-.78.78-.78 2.05 0 2.83L4 21.41c.39.39.9.59 1.41.59.51 0 1.02-.2 1.41-.59l7.78-7.78 2.81-2.81c.8-.78.8-2.07 0-2.86zM5.41 20L4 18.59l7.72-7.72 1.47 1.35L5.41 20z\"/>\n",
              "  </svg>\n",
              "      </button>\n",
              "      \n",
              "  <style>\n",
              "    .colab-df-container {\n",
              "      display:flex;\n",
              "      flex-wrap:wrap;\n",
              "      gap: 12px;\n",
              "    }\n",
              "\n",
              "    .colab-df-convert {\n",
              "      background-color: #E8F0FE;\n",
              "      border: none;\n",
              "      border-radius: 50%;\n",
              "      cursor: pointer;\n",
              "      display: none;\n",
              "      fill: #1967D2;\n",
              "      height: 32px;\n",
              "      padding: 0 0 0 0;\n",
              "      width: 32px;\n",
              "    }\n",
              "\n",
              "    .colab-df-convert:hover {\n",
              "      background-color: #E2EBFA;\n",
              "      box-shadow: 0px 1px 2px rgba(60, 64, 67, 0.3), 0px 1px 3px 1px rgba(60, 64, 67, 0.15);\n",
              "      fill: #174EA6;\n",
              "    }\n",
              "\n",
              "    [theme=dark] .colab-df-convert {\n",
              "      background-color: #3B4455;\n",
              "      fill: #D2E3FC;\n",
              "    }\n",
              "\n",
              "    [theme=dark] .colab-df-convert:hover {\n",
              "      background-color: #434B5C;\n",
              "      box-shadow: 0px 1px 3px 1px rgba(0, 0, 0, 0.15);\n",
              "      filter: drop-shadow(0px 1px 2px rgba(0, 0, 0, 0.3));\n",
              "      fill: #FFFFFF;\n",
              "    }\n",
              "  </style>\n",
              "\n",
              "      <script>\n",
              "        const buttonEl =\n",
              "          document.querySelector('#df-8c1bca21-719f-43b8-b2ac-01c3f470675e button.colab-df-convert');\n",
              "        buttonEl.style.display =\n",
              "          google.colab.kernel.accessAllowed ? 'block' : 'none';\n",
              "\n",
              "        async function convertToInteractive(key) {\n",
              "          const element = document.querySelector('#df-8c1bca21-719f-43b8-b2ac-01c3f470675e');\n",
              "          const dataTable =\n",
              "            await google.colab.kernel.invokeFunction('convertToInteractive',\n",
              "                                                     [key], {});\n",
              "          if (!dataTable) return;\n",
              "\n",
              "          const docLinkHtml = 'Like what you see? Visit the ' +\n",
              "            '<a target=\"_blank\" href=https://colab.research.google.com/notebooks/data_table.ipynb>data table notebook</a>'\n",
              "            + ' to learn more about interactive tables.';\n",
              "          element.innerHTML = '';\n",
              "          dataTable['output_type'] = 'display_data';\n",
              "          await google.colab.output.renderOutput(dataTable, element);\n",
              "          const docLink = document.createElement('div');\n",
              "          docLink.innerHTML = docLinkHtml;\n",
              "          element.appendChild(docLink);\n",
              "        }\n",
              "      </script>\n",
              "    </div>\n",
              "  </div>\n",
              "  "
            ]
          },
          "metadata": {},
          "execution_count": 337
        }
      ]
    },
    {
      "cell_type": "markdown",
      "source": [
        "We start by running a benchmark case with full connectivity, i.e., there exists a direction connection between each pair of nodes. We solve a traveling salesman problem and obtain the minimum total travel distance to visit all nodes."
      ],
      "metadata": {
        "id": "uxOpLlLz4OWY"
      }
    },
    {
      "cell_type": "code",
      "source": [
        "mapping = {}\n",
        "for i,label in enumerate(labels):\n",
        "  mapping[i] = label\n",
        "\n",
        "tsp_solve = TSP()\n",
        "# Brute force solution\n",
        "best_route,min_dist = tsp_solve.brute_force(dm_full)\n",
        "best_route = [mapping[i] for i in best_route]"
      ],
      "metadata": {
        "id": "9UBA-SPe0pYv"
      },
      "execution_count": null,
      "outputs": []
    },
    {
      "cell_type": "code",
      "source": [
        "# Visualize the best route\n",
        "f,a = plt.subplots(1,2)\n",
        "\n",
        "route_idx = [labels.index(i) for i in best_route]\n",
        "\n",
        "# Plot 1\n",
        "for i in range(4):\n",
        "  a[0].plot(x_cor_inner[i],y_cor_inner[i],'ro-')\n",
        "  a[0].plot(x_cor_outer[i],y_cor_outer[i],'go-')\n",
        "\n",
        "for i in range(len(route_idx)-1):\n",
        "  a[0].plot([x_cor[route_idx[i]],x_cor[route_idx[i+1]]],[y_cor[route_idx[i]],y_cor[route_idx[i+1]]],'bo-')\n",
        "\n",
        "for i,label in enumerate(labels):\n",
        "  a[0].annotate(label,(x_cor[i],y_cor[i]),xytext=(x_cor[i],y_cor[i]+0.3))\n",
        "\n",
        "a[0].set_xlim(0,max(x_cor)*1.1)\n",
        "a[0].set_ylim(0,max(y_cor)*1.1)\n",
        "\n",
        "# Plot 2\n",
        "for i in range(4):\n",
        "  if i==0:\n",
        "    a[1].plot([x_cor_inner[i],x_cor_inner[-1]],[y_cor_inner[i],y_cor_inner[-1]],'ro-')\n",
        "    a[1].plot([x_cor_outer[i],x_cor_outer[-1]],[y_cor_outer[i],y_cor_outer[-1]],'go-')\n",
        "  a[1].plot(x_cor_inner[i:i+2],y_cor_inner[i:i+2],'ro-')\n",
        "  a[1].plot(x_cor_outer[i:i+2],y_cor_outer[i:i+2],'go-')\n",
        "\n",
        "for i in range(len(route_idx)-1):\n",
        "  a[1].plot([x_cor[route_idx[i]],x_cor[route_idx[i+1]]],[y_cor[route_idx[i]],y_cor[route_idx[i+1]]],'bo-')\n",
        "\n",
        "for i,label in enumerate(labels):\n",
        "  a[1].annotate(label,(x_cor[i],y_cor[i]),xytext=(x_cor[i],y_cor[i]+0.3))\n",
        "\n",
        "a[1].set_xlim(0,max(x_cor)*1.1)\n",
        "a[1].set_ylim(0,max(y_cor)*1.1)\n",
        "\n",
        "plt.show()"
      ],
      "metadata": {
        "colab": {
          "base_uri": "https://localhost:8080/",
          "height": 265
        },
        "id": "IKHrZCGr1CRI",
        "outputId": "6c23518f-cb14-4a98-c4a1-eb3a4dd33377"
      },
      "execution_count": null,
      "outputs": [
        {
          "output_type": "display_data",
          "data": {
            "text/plain": [
              "<Figure size 432x288 with 2 Axes>"
            ],
            "image/png": "[encoded data removed]"
          },
          "metadata": {
            "needs_background": "light"
          }
        }
      ]
    },
    {
      "cell_type": "markdown",
      "source": [
        "Benchmark global optimal connection vs. existing layout. Ideally, all the blue lines that don't overlap with existing connection should be added."
      ],
      "metadata": {
        "id": "8iE5lj80LUEo"
      }
    },
    {
      "cell_type": "markdown",
      "source": [
        "**Constrained Problem**"
      ],
      "metadata": {
        "id": "Z36DnQSJOawx"
      }
    },
    {
      "cell_type": "markdown",
      "source": [
        "*Add One Additional Connection*"
      ],
      "metadata": {
        "id": "t6Pv6MT4u0KD"
      }
    },
    {
      "cell_type": "markdown",
      "source": [
        "Suppose we face constraints like \"one additional connection only\" or \"impossible connection between specific pairs of nodes\", we can adjust the value in the distance matrix to accomodate these constraints. For example, changing the distance between node A and B to some extremely large value means that the algorithm will never yield a solution with these two nodes directly connected. \n",
        "\n",
        "In reality, we can modify the physical distances between nodes with street quality information. A highway reduces the travel distance (vs. the concept of physical distance) while a dirt road increases it."
      ],
      "metadata": {
        "id": "czUBkP385Zck"
      }
    },
    {
      "cell_type": "markdown",
      "source": [
        "Back to our previous example, suppose we want to add one extra connection (or upgrade an existing one) on top of the current inner and outer loops so that the two loops are better connected. Among all the pairs of nodes that aren't currently connected, we can choose one pair, preserve its true physicial distance, and set the other pairs' distances in the matrix to an arbitrary large value. We run the algorithm for each possible pair, and choose the pair that yields the minimum total travel distance."
      ],
      "metadata": {
        "id": "is6LdSRpTHX6"
      }
    },
    {
      "cell_type": "markdown",
      "source": [
        "Suppose we want to figure out the minimum travel distance if we connect A and E, we need to change the distance value of all entries in the matrix except for the pairs that are already connected. That is, we keep the actualy distance between \n",
        "\n",
        "A-B, B-C, C-D, D-A, E-F, F-G, G-H, H-E, A-E \n",
        "\n",
        "pairs intact in the distance matrix, and adjust the values of other (excluding the diagonal entries) to 1000. "
      ],
      "metadata": {
        "id": "2r-XSkmlZE85"
      }
    },
    {
      "cell_type": "code",
      "source": [
        "# Generate all possible inner-outer node pairs that are not currently connected as candidates\n",
        "inner_nodes = ['A','B','C','D']\n",
        "outer_nodes = ['E','F','G','H']\n",
        "\n",
        "candidates = list(product(inner_nodes,outer_nodes))\n",
        "\n",
        "# All pairs \n",
        "all_pairs = list(product(labels,labels))\n",
        "\n",
        "# Connected pairs\n",
        "conn_pairs = [('A','B'),('B','C'),('C','D'),('D','A'),('E','F'),('F','G'),('G','H'),('H','E')]\n",
        "conn_pairs_set = [set(p) for p in conn_pairs]"
      ],
      "metadata": {
        "id": "ZZ32nq89YOf1"
      },
      "execution_count": null,
      "outputs": []
    },
    {
      "cell_type": "code",
      "source": [
        "# Suppose the we add or upgrade the connection between node A and E, the distance matrix should be\n",
        "df_dm_cons = df_dm.copy()\n",
        "\n",
        "for pair in all_pairs:\n",
        "  if set(pair) not in conn_pairs_set and set(pair)!=set(('A','E')):\n",
        "    df_dm_cons.loc[pair[0],pair[1]] = 1000\n",
        "\n",
        "np.fill_diagonal(df_dm_cons.values,0.0)\n",
        "df_dm_cons"
      ],
      "metadata": {
        "colab": {
          "base_uri": "https://localhost:8080/",
          "height": 297
        },
        "id": "nVYSRFm-1R_n",
        "outputId": "a55cd4bb-9238-45cc-d47c-5bad0448dad2"
      },
      "execution_count": null,
      "outputs": [
        {
          "output_type": "execute_result",
          "data": {
            "text/plain": [
              "             A            B            C            D            E  \\\n",
              "A     0.000000     2.828427  1000.000000     2.828427     4.123106   \n",
              "B     2.828427     0.000000     2.828427  1000.000000  1000.000000   \n",
              "C  1000.000000     2.828427     0.000000     2.828427  1000.000000   \n",
              "D     2.828427  1000.000000     2.828427     0.000000  1000.000000   \n",
              "E     4.123106  1000.000000  1000.000000  1000.000000     0.000000   \n",
              "F  1000.000000  1000.000000  1000.000000  1000.000000     6.708204   \n",
              "G  1000.000000  1000.000000  1000.000000  1000.000000  1000.000000   \n",
              "H  1000.000000  1000.000000  1000.000000  1000.000000     6.403124   \n",
              "\n",
              "             F            G            H  \n",
              "A  1000.000000  1000.000000  1000.000000  \n",
              "B  1000.000000  1000.000000  1000.000000  \n",
              "C  1000.000000  1000.000000  1000.000000  \n",
              "D  1000.000000  1000.000000  1000.000000  \n",
              "E     6.708204  1000.000000     6.403124  \n",
              "F     0.000000    10.630146  1000.000000  \n",
              "G    10.630146     0.000000    10.049876  \n",
              "H  1000.000000    10.049876     0.000000  "
            ],
            "text/html": [
              "\n",
              "  <div id=\"df-019119af-4c95-4daa-b74c-05ece0fc21bb\">\n",
              "    <div class=\"colab-df-container\">\n",
              "      <div>\n",
              "<style scoped>\n",
              "    .dataframe tbody tr th:only-of-type {\n",
              "        vertical-align: middle;\n",
              "    }\n",
              "\n",
              "    .dataframe tbody tr th {\n",
              "        vertical-align: top;\n",
              "    }\n",
              "\n",
              "    .dataframe thead th {\n",
              "        text-align: right;\n",
              "    }\n",
              "</style>\n",
              "<table border=\"1\" class=\"dataframe\">\n",
              "  <thead>\n",
              "    <tr style=\"text-align: right;\">\n",
              "      <th></th>\n",
              "      <th>A</th>\n",
              "      <th>B</th>\n",
              "      <th>C</th>\n",
              "      <th>D</th>\n",
              "      <th>E</th>\n",
              "      <th>F</th>\n",
              "      <th>G</th>\n",
              "      <th>H</th>\n",
              "    </tr>\n",
              "  </thead>\n",
              "  <tbody>\n",
              "    <tr>\n",
              "      <th>A</th>\n",
              "      <td>0.000000</td>\n",
              "      <td>2.828427</td>\n",
              "      <td>1000.000000</td>\n",
              "      <td>2.828427</td>\n",
              "      <td>4.123106</td>\n",
              "      <td>1000.000000</td>\n",
              "      <td>1000.000000</td>\n",
              "      <td>1000.000000</td>\n",
              "    </tr>\n",
              "    <tr>\n",
              "      <th>B</th>\n",
              "      <td>2.828427</td>\n",
              "      <td>0.000000</td>\n",
              "      <td>2.828427</td>\n",
              "      <td>1000.000000</td>\n",
              "      <td>1000.000000</td>\n",
              "      <td>1000.000000</td>\n",
              "      <td>1000.000000</td>\n",
              "      <td>1000.000000</td>\n",
              "    </tr>\n",
              "    <tr>\n",
              "      <th>C</th>\n",
              "      <td>1000.000000</td>\n",
              "      <td>2.828427</td>\n",
              "      <td>0.000000</td>\n",
              "      <td>2.828427</td>\n",
              "      <td>1000.000000</td>\n",
              "      <td>1000.000000</td>\n",
              "      <td>1000.000000</td>\n",
              "      <td>1000.000000</td>\n",
              "    </tr>\n",
              "    <tr>\n",
              "      <th>D</th>\n",
              "      <td>2.828427</td>\n",
              "      <td>1000.000000</td>\n",
              "      <td>2.828427</td>\n",
              "      <td>0.000000</td>\n",
              "      <td>1000.000000</td>\n",
              "      <td>1000.000000</td>\n",
              "      <td>1000.000000</td>\n",
              "      <td>1000.000000</td>\n",
              "    </tr>\n",
              "    <tr>\n",
              "      <th>E</th>\n",
              "      <td>4.123106</td>\n",
              "      <td>1000.000000</td>\n",
              "      <td>1000.000000</td>\n",
              "      <td>1000.000000</td>\n",
              "      <td>0.000000</td>\n",
              "      <td>6.708204</td>\n",
              "      <td>1000.000000</td>\n",
              "      <td>6.403124</td>\n",
              "    </tr>\n",
              "    <tr>\n",
              "      <th>F</th>\n",
              "      <td>1000.000000</td>\n",
              "      <td>1000.000000</td>\n",
              "      <td>1000.000000</td>\n",
              "      <td>1000.000000</td>\n",
              "      <td>6.708204</td>\n",
              "      <td>0.000000</td>\n",
              "      <td>10.630146</td>\n",
              "      <td>1000.000000</td>\n",
              "    </tr>\n",
              "    <tr>\n",
              "      <th>G</th>\n",
              "      <td>1000.000000</td>\n",
              "      <td>1000.000000</td>\n",
              "      <td>1000.000000</td>\n",
              "      <td>1000.000000</td>\n",
              "      <td>1000.000000</td>\n",
              "      <td>10.630146</td>\n",
              "      <td>0.000000</td>\n",
              "      <td>10.049876</td>\n",
              "    </tr>\n",
              "    <tr>\n",
              "      <th>H</th>\n",
              "      <td>1000.000000</td>\n",
              "      <td>1000.000000</td>\n",
              "      <td>1000.000000</td>\n",
              "      <td>1000.000000</td>\n",
              "      <td>6.403124</td>\n",
              "      <td>1000.000000</td>\n",
              "      <td>10.049876</td>\n",
              "      <td>0.000000</td>\n",
              "    </tr>\n",
              "  </tbody>\n",
              "</table>\n",
              "</div>\n",
              "      <button class=\"colab-df-convert\" onclick=\"convertToInteractive('df-019119af-4c95-4daa-b74c-05ece0fc21bb')\"\n",
              "              title=\"Convert this dataframe to an interactive table.\"\n",
              "              style=\"display:none;\">\n",
              "        \n",
              "  <svg xmlns=\"http://www.w3.org/2000/svg\" height=\"24px\"viewBox=\"0 0 24 24\"\n",
              "       width=\"24px\">\n",
              "    <path d=\"M0 0h24v24H0V0z\" fill=\"none\"/>\n",
              "    <path d=\"M18.56 5.44l.94 2.06.94-2.06 2.06-.94-2.06-.94-.94-2.06-.94 2.06-2.06.94zm-11 1L8.5 8.5l.94-2.06 2.06-.94-2.06-.94L8.5 2.5l-.94 2.06-2.06.94zm10 10l.94 2.06.94-2.06 2.06-.94-2.06-.94-.94-2.06-.94 2.06-2.06.94z\"/><path d=\"M17.41 7.96l-1.37-1.37c-.4-.4-.92-.59-1.43-.59-.52 0-1.04.2-1.43.59L10.3 9.45l-7.72 7.72c-.78.78-.78 2.05 0 2.83L4 21.41c.39.39.9.59 1.41.59.51 0 1.02-.2 1.41-.59l7.78-7.78 2.81-2.81c.8-.78.8-2.07 0-2.86zM5.41 20L4 18.59l7.72-7.72 1.47 1.35L5.41 20z\"/>\n",
              "  </svg>\n",
              "      </button>\n",
              "      \n",
              "  <style>\n",
              "    .colab-df-container {\n",
              "      display:flex;\n",
              "      flex-wrap:wrap;\n",
              "      gap: 12px;\n",
              "    }\n",
              "\n",
              "    .colab-df-convert {\n",
              "      background-color: #E8F0FE;\n",
              "      border: none;\n",
              "      border-radius: 50%;\n",
              "      cursor: pointer;\n",
              "      display: none;\n",
              "      fill: #1967D2;\n",
              "      height: 32px;\n",
              "      padding: 0 0 0 0;\n",
              "      width: 32px;\n",
              "    }\n",
              "\n",
              "    .colab-df-convert:hover {\n",
              "      background-color: #E2EBFA;\n",
              "      box-shadow: 0px 1px 2px rgba(60, 64, 67, 0.3), 0px 1px 3px 1px rgba(60, 64, 67, 0.15);\n",
              "      fill: #174EA6;\n",
              "    }\n",
              "\n",
              "    [theme=dark] .colab-df-convert {\n",
              "      background-color: #3B4455;\n",
              "      fill: #D2E3FC;\n",
              "    }\n",
              "\n",
              "    [theme=dark] .colab-df-convert:hover {\n",
              "      background-color: #434B5C;\n",
              "      box-shadow: 0px 1px 3px 1px rgba(0, 0, 0, 0.15);\n",
              "      filter: drop-shadow(0px 1px 2px rgba(0, 0, 0, 0.3));\n",
              "      fill: #FFFFFF;\n",
              "    }\n",
              "  </style>\n",
              "\n",
              "      <script>\n",
              "        const buttonEl =\n",
              "          document.querySelector('#df-019119af-4c95-4daa-b74c-05ece0fc21bb button.colab-df-convert');\n",
              "        buttonEl.style.display =\n",
              "          google.colab.kernel.accessAllowed ? 'block' : 'none';\n",
              "\n",
              "        async function convertToInteractive(key) {\n",
              "          const element = document.querySelector('#df-019119af-4c95-4daa-b74c-05ece0fc21bb');\n",
              "          const dataTable =\n",
              "            await google.colab.kernel.invokeFunction('convertToInteractive',\n",
              "                                                     [key], {});\n",
              "          if (!dataTable) return;\n",
              "\n",
              "          const docLinkHtml = 'Like what you see? Visit the ' +\n",
              "            '<a target=\"_blank\" href=https://colab.research.google.com/notebooks/data_table.ipynb>data table notebook</a>'\n",
              "            + ' to learn more about interactive tables.';\n",
              "          element.innerHTML = '';\n",
              "          dataTable['output_type'] = 'display_data';\n",
              "          await google.colab.output.renderOutput(dataTable, element);\n",
              "          const docLink = document.createElement('div');\n",
              "          docLink.innerHTML = docLinkHtml;\n",
              "          element.appendChild(docLink);\n",
              "        }\n",
              "      </script>\n",
              "    </div>\n",
              "  </div>\n",
              "  "
            ]
          },
          "metadata": {},
          "execution_count": 341
        }
      ]
    },
    {
      "cell_type": "code",
      "source": [
        "summary = []\n",
        "\n",
        "# Formally test all candidates\n",
        "for candidate in candidates:\n",
        "  df_dm_cons = df_dm.copy()\n",
        "  for pair in all_pairs:\n",
        "    if set(pair) not in conn_pairs_set and set(pair)!=set(candidate):\n",
        "      df_dm_cons.loc[pair[0],pair[1]] = 1000\n",
        "\n",
        "  np.fill_diagonal(df_dm_cons.values,0.0)\n",
        "\n",
        "  best_route,min_dist = tsp_solve.brute_force(np.array(df_dm_cons))\n",
        "  best_route = [mapping[i] for i in best_route]\n",
        "  summary.append([candidate,best_route,min_dist])\n",
        "\n",
        "df_summary = pd.DataFrame(summary,columns=['new_connection','best_route','shortest_distance'])"
      ],
      "metadata": {
        "id": "A9NEjyK6FToo"
      },
      "execution_count": null,
      "outputs": []
    },
    {
      "cell_type": "code",
      "source": [
        "# Summary of best route and shortest travel distance\n",
        "df_summary"
      ],
      "metadata": {
        "colab": {
          "base_uri": "https://localhost:8080/",
          "height": 545
        },
        "id": "n-j97J9qF4kl",
        "outputId": "c5411624-6e09-471a-dfc7-f12f22dffd18"
      },
      "execution_count": null,
      "outputs": [
        {
          "output_type": "execute_result",
          "data": {
            "text/plain": [
              "   new_connection                   best_route  shortest_distance\n",
              "0          (A, E)  [A, B, C, D, F, G, H, E, A]        1039.691533\n",
              "1          (A, F)  [A, B, C, D, G, H, E, F, A]        1036.118621\n",
              "2          (A, G)  [A, B, C, D, F, E, H, G, A]        1042.086792\n",
              "3          (A, H)  [A, B, C, D, G, F, E, H, A]        1036.226755\n",
              "4          (B, E)  [A, D, C, B, E, H, G, F, A]        1041.651190\n",
              "5          (B, F)  [A, B, F, E, H, G, C, D, A]        1033.646485\n",
              "6          (B, G)  [A, B, G, H, E, F, C, D, A]        1041.080466\n",
              "7          (B, H)  [A, D, C, B, H, E, F, G, A]        1038.551311\n",
              "8          (C, E)  [A, B, C, E, H, G, F, D, A]        1043.630685\n",
              "9          (C, F)  [A, B, C, F, E, H, G, D, A]        1036.118621\n",
              "10         (C, G)  [A, B, C, G, H, E, F, D, A]        1038.354689\n",
              "11         (C, H)  [A, B, C, H, E, F, G, D, A]        1037.883610\n",
              "12         (D, E)  [A, B, C, D, E, H, G, F, A]        1042.276631\n",
              "13         (D, F)  [A, B, C, D, F, E, H, G, A]        1037.646485\n",
              "14         (D, G)  [A, B, C, D, G, H, E, F, A]        1039.708743\n",
              "15         (D, H)  [A, B, C, D, H, E, F, G, A]        1035.055182"
            ],
            "text/html": [
              "\n",
              "  <div id=\"df-23b4c33b-0cb8-4c09-a76b-4e9b99ac58ae\">\n",
              "    <div class=\"colab-df-container\">\n",
              "      <div>\n",
              "<style scoped>\n",
              "    .dataframe tbody tr th:only-of-type {\n",
              "        vertical-align: middle;\n",
              "    }\n",
              "\n",
              "    .dataframe tbody tr th {\n",
              "        vertical-align: top;\n",
              "    }\n",
              "\n",
              "    .dataframe thead th {\n",
              "        text-align: right;\n",
              "    }\n",
              "</style>\n",
              "<table border=\"1\" class=\"dataframe\">\n",
              "  <thead>\n",
              "    <tr style=\"text-align: right;\">\n",
              "      <th></th>\n",
              "      <th>new_connection</th>\n",
              "      <th>best_route</th>\n",
              "      <th>shortest_distance</th>\n",
              "    </tr>\n",
              "  </thead>\n",
              "  <tbody>\n",
              "    <tr>\n",
              "      <th>0</th>\n",
              "      <td>(A, E)</td>\n",
              "      <td>[A, B, C, D, F, G, H, E, A]</td>\n",
              "      <td>1039.691533</td>\n",
              "    </tr>\n",
              "    <tr>\n",
              "      <th>1</th>\n",
              "      <td>(A, F)</td>\n",
              "      <td>[A, B, C, D, G, H, E, F, A]</td>\n",
              "      <td>1036.118621</td>\n",
              "    </tr>\n",
              "    <tr>\n",
              "      <th>2</th>\n",
              "      <td>(A, G)</td>\n",
              "      <td>[A, B, C, D, F, E, H, G, A]</td>\n",
              "      <td>1042.086792</td>\n",
              "    </tr>\n",
              "    <tr>\n",
              "      <th>3</th>\n",
              "      <td>(A, H)</td>\n",
              "      <td>[A, B, C, D, G, F, E, H, A]</td>\n",
              "      <td>1036.226755</td>\n",
              "    </tr>\n",
              "    <tr>\n",
              "      <th>4</th>\n",
              "      <td>(B, E)</td>\n",
              "      <td>[A, D, C, B, E, H, G, F, A]</td>\n",
              "      <td>1041.651190</td>\n",
              "    </tr>\n",
              "    <tr>\n",
              "      <th>5</th>\n",
              "      <td>(B, F)</td>\n",
              "      <td>[A, B, F, E, H, G, C, D, A]</td>\n",
              "      <td>1033.646485</td>\n",
              "    </tr>\n",
              "    <tr>\n",
              "      <th>6</th>\n",
              "      <td>(B, G)</td>\n",
              "      <td>[A, B, G, H, E, F, C, D, A]</td>\n",
              "      <td>1041.080466</td>\n",
              "    </tr>\n",
              "    <tr>\n",
              "      <th>7</th>\n",
              "      <td>(B, H)</td>\n",
              "      <td>[A, D, C, B, H, E, F, G, A]</td>\n",
              "      <td>1038.551311</td>\n",
              "    </tr>\n",
              "    <tr>\n",
              "      <th>8</th>\n",
              "      <td>(C, E)</td>\n",
              "      <td>[A, B, C, E, H, G, F, D, A]</td>\n",
              "      <td>1043.630685</td>\n",
              "    </tr>\n",
              "    <tr>\n",
              "      <th>9</th>\n",
              "      <td>(C, F)</td>\n",
              "      <td>[A, B, C, F, E, H, G, D, A]</td>\n",
              "      <td>1036.118621</td>\n",
              "    </tr>\n",
              "    <tr>\n",
              "      <th>10</th>\n",
              "      <td>(C, G)</td>\n",
              "      <td>[A, B, C, G, H, E, F, D, A]</td>\n",
              "      <td>1038.354689</td>\n",
              "    </tr>\n",
              "    <tr>\n",
              "      <th>11</th>\n",
              "      <td>(C, H)</td>\n",
              "      <td>[A, B, C, H, E, F, G, D, A]</td>\n",
              "      <td>1037.883610</td>\n",
              "    </tr>\n",
              "    <tr>\n",
              "      <th>12</th>\n",
              "      <td>(D, E)</td>\n",
              "      <td>[A, B, C, D, E, H, G, F, A]</td>\n",
              "      <td>1042.276631</td>\n",
              "    </tr>\n",
              "    <tr>\n",
              "      <th>13</th>\n",
              "      <td>(D, F)</td>\n",
              "      <td>[A, B, C, D, F, E, H, G, A]</td>\n",
              "      <td>1037.646485</td>\n",
              "    </tr>\n",
              "    <tr>\n",
              "      <th>14</th>\n",
              "      <td>(D, G)</td>\n",
              "      <td>[A, B, C, D, G, H, E, F, A]</td>\n",
              "      <td>1039.708743</td>\n",
              "    </tr>\n",
              "    <tr>\n",
              "      <th>15</th>\n",
              "      <td>(D, H)</td>\n",
              "      <td>[A, B, C, D, H, E, F, G, A]</td>\n",
              "      <td>1035.055182</td>\n",
              "    </tr>\n",
              "  </tbody>\n",
              "</table>\n",
              "</div>\n",
              "      <button class=\"colab-df-convert\" onclick=\"convertToInteractive('df-23b4c33b-0cb8-4c09-a76b-4e9b99ac58ae')\"\n",
              "              title=\"Convert this dataframe to an interactive table.\"\n",
              "              style=\"display:none;\">\n",
              "        \n",
              "  <svg xmlns=\"http://www.w3.org/2000/svg\" height=\"24px\"viewBox=\"0 0 24 24\"\n",
              "       width=\"24px\">\n",
              "    <path d=\"M0 0h24v24H0V0z\" fill=\"none\"/>\n",
              "    <path d=\"M18.56 5.44l.94 2.06.94-2.06 2.06-.94-2.06-.94-.94-2.06-.94 2.06-2.06.94zm-11 1L8.5 8.5l.94-2.06 2.06-.94-2.06-.94L8.5 2.5l-.94 2.06-2.06.94zm10 10l.94 2.06.94-2.06 2.06-.94-2.06-.94-.94-2.06-.94 2.06-2.06.94z\"/><path d=\"M17.41 7.96l-1.37-1.37c-.4-.4-.92-.59-1.43-.59-.52 0-1.04.2-1.43.59L10.3 9.45l-7.72 7.72c-.78.78-.78 2.05 0 2.83L4 21.41c.39.39.9.59 1.41.59.51 0 1.02-.2 1.41-.59l7.78-7.78 2.81-2.81c.8-.78.8-2.07 0-2.86zM5.41 20L4 18.59l7.72-7.72 1.47 1.35L5.41 20z\"/>\n",
              "  </svg>\n",
              "      </button>\n",
              "      \n",
              "  <style>\n",
              "    .colab-df-container {\n",
              "      display:flex;\n",
              "      flex-wrap:wrap;\n",
              "      gap: 12px;\n",
              "    }\n",
              "\n",
              "    .colab-df-convert {\n",
              "      background-color: #E8F0FE;\n",
              "      border: none;\n",
              "      border-radius: 50%;\n",
              "      cursor: pointer;\n",
              "      display: none;\n",
              "      fill: #1967D2;\n",
              "      height: 32px;\n",
              "      padding: 0 0 0 0;\n",
              "      width: 32px;\n",
              "    }\n",
              "\n",
              "    .colab-df-convert:hover {\n",
              "      background-color: #E2EBFA;\n",
              "      box-shadow: 0px 1px 2px rgba(60, 64, 67, 0.3), 0px 1px 3px 1px rgba(60, 64, 67, 0.15);\n",
              "      fill: #174EA6;\n",
              "    }\n",
              "\n",
              "    [theme=dark] .colab-df-convert {\n",
              "      background-color: #3B4455;\n",
              "      fill: #D2E3FC;\n",
              "    }\n",
              "\n",
              "    [theme=dark] .colab-df-convert:hover {\n",
              "      background-color: #434B5C;\n",
              "      box-shadow: 0px 1px 3px 1px rgba(0, 0, 0, 0.15);\n",
              "      filter: drop-shadow(0px 1px 2px rgba(0, 0, 0, 0.3));\n",
              "      fill: #FFFFFF;\n",
              "    }\n",
              "  </style>\n",
              "\n",
              "      <script>\n",
              "        const buttonEl =\n",
              "          document.querySelector('#df-23b4c33b-0cb8-4c09-a76b-4e9b99ac58ae button.colab-df-convert');\n",
              "        buttonEl.style.display =\n",
              "          google.colab.kernel.accessAllowed ? 'block' : 'none';\n",
              "\n",
              "        async function convertToInteractive(key) {\n",
              "          const element = document.querySelector('#df-23b4c33b-0cb8-4c09-a76b-4e9b99ac58ae');\n",
              "          const dataTable =\n",
              "            await google.colab.kernel.invokeFunction('convertToInteractive',\n",
              "                                                     [key], {});\n",
              "          if (!dataTable) return;\n",
              "\n",
              "          const docLinkHtml = 'Like what you see? Visit the ' +\n",
              "            '<a target=\"_blank\" href=https://colab.research.google.com/notebooks/data_table.ipynb>data table notebook</a>'\n",
              "            + ' to learn more about interactive tables.';\n",
              "          element.innerHTML = '';\n",
              "          dataTable['output_type'] = 'display_data';\n",
              "          await google.colab.output.renderOutput(dataTable, element);\n",
              "          const docLink = document.createElement('div');\n",
              "          docLink.innerHTML = docLinkHtml;\n",
              "          element.appendChild(docLink);\n",
              "        }\n",
              "      </script>\n",
              "    </div>\n",
              "  </div>\n",
              "  "
            ]
          },
          "metadata": {},
          "execution_count": 347
        }
      ]
    },
    {
      "cell_type": "code",
      "source": [
        "# Select and plot the best connection to add\n",
        "best_candidate = df_summary.iloc[np.argmin(df_summary['shortest_distance']),:]\n",
        "new_connection = best_candidate['new_connection']\n",
        "best_route = best_candidate['best_route']\n",
        "min_dist = best_candidate['shortest_distance']\n",
        "\n",
        "print('Nodes {} should be connected.'.format(new_connection))\n",
        "print('The optimal route is {}.'.format(best_route))\n",
        "print('The shortest travel distance after the addition is {}.'.format(min_dist))"
      ],
      "metadata": {
        "colab": {
          "base_uri": "https://localhost:8080/"
        },
        "id": "KrFRlbc0F55r",
        "outputId": "4d587155-3a63-4324-dd2b-f06fe57e3f9f"
      },
      "execution_count": null,
      "outputs": [
        {
          "output_type": "stream",
          "name": "stdout",
          "text": [
            "Nodes ('B', 'F') should be connected.\n",
            "The optimal route is ['A', 'B', 'F', 'E', 'H', 'G', 'C', 'D', 'A'].\n",
            "The shortest travel distance after the addition is 1033.6464851652918.\n"
          ]
        }
      ]
    },
    {
      "cell_type": "code",
      "source": [
        "# Visualize the best route\n",
        "f,a = plt.subplots(1,2)\n",
        "\n",
        "route_idx = [labels.index(i) for i in best_route]\n",
        "\n",
        "# Plot 1\n",
        "for i in range(4):\n",
        "  a[0].plot(x_cor_inner[i],y_cor_inner[i],'ro-')\n",
        "  a[0].plot(x_cor_outer[i],y_cor_outer[i],'go-')\n",
        "\n",
        "for i in range(len(route_idx)-1):\n",
        "  a[0].plot([x_cor[route_idx[i]],x_cor[route_idx[i+1]]],[y_cor[route_idx[i]],y_cor[route_idx[i+1]]],'bo-')\n",
        "\n",
        "for i,label in enumerate(labels):\n",
        "  a[0].annotate(label,(x_cor[i],y_cor[i]),xytext=(x_cor[i],y_cor[i]+0.3))\n",
        "\n",
        "a[0].set_xlim(0,max(x_cor)*1.1)\n",
        "a[0].set_ylim(0,max(y_cor)*1.1)\n",
        "\n",
        "# Plot 2\n",
        "for i in range(4):\n",
        "  if i==0:\n",
        "    a[1].plot([x_cor_inner[i],x_cor_inner[-1]],[y_cor_inner[i],y_cor_inner[-1]],'ro-')\n",
        "    a[1].plot([x_cor_outer[i],x_cor_outer[-1]],[y_cor_outer[i],y_cor_outer[-1]],'go-')\n",
        "  a[1].plot(x_cor_inner[i:i+2],y_cor_inner[i:i+2],'ro-')\n",
        "  a[1].plot(x_cor_outer[i:i+2],y_cor_outer[i:i+2],'go-')\n",
        "\n",
        "for i in range(len(route_idx)-1):\n",
        "  a[1].plot([x_cor[route_idx[i]],x_cor[route_idx[i+1]]],[y_cor[route_idx[i]],y_cor[route_idx[i+1]]],'bo-')\n",
        "\n",
        "for i,label in enumerate(labels):\n",
        "  a[1].annotate(label,(x_cor[i],y_cor[i]),xytext=(x_cor[i],y_cor[i]+0.3))\n",
        "\n",
        "a[1].set_xlim(0,max(x_cor)*1.1)\n",
        "a[1].set_ylim(0,max(y_cor)*1.1)\n",
        "\n",
        "plt.show()"
      ],
      "metadata": {
        "colab": {
          "base_uri": "https://localhost:8080/",
          "height": 265
        },
        "id": "oN7AFQvQL9fb",
        "outputId": "a2a3d0b9-b9e2-4b39-b5d3-a390a230b30c"
      },
      "execution_count": null,
      "outputs": [
        {
          "output_type": "display_data",
          "data": {
            "text/plain": [
              "<Figure size 432x288 with 2 Axes>"
            ],
            "image/png": "[encoded data removed]"
          },
          "metadata": {
            "needs_background": "light"
          }
        }
      ]
    },
    {
      "cell_type": "markdown",
      "source": [
        "Notice that the shortest travel distance of all candidates is above 1000. The is beacuse of the \"no repeated visit\" requirement in our algorithm. In the above graph, the non-existing or hard-to-travel connection with travel distance 1000 between node C and G is forced into the solution due the requirement. While one solution is two modify our algorithm to allow for repeated visits, we opt to try allowing for two additinoal connections instead of one in the next part."
      ],
      "metadata": {
        "id": "AlZSScBHuLg2"
      }
    },
    {
      "cell_type": "markdown",
      "source": [
        "*Add Two Additional Connections*"
      ],
      "metadata": {
        "id": "HeG7XS8UwbuT"
      }
    },
    {
      "cell_type": "markdown",
      "source": [
        "For the most part, it is very similar to the one additional connection problem. The key difference is that each of the candidate now consists of two pairs of node. "
      ],
      "metadata": {
        "id": "b4y7_hrZwvEY"
      }
    },
    {
      "cell_type": "code",
      "source": [
        "# All combinations of candidate pairs \n",
        "candidates_ext = list(combinations(candidates,2))"
      ],
      "metadata": {
        "id": "8bdk3N--gzPv"
      },
      "execution_count": null,
      "outputs": []
    },
    {
      "cell_type": "code",
      "source": [
        "summary_ext = []\n",
        "\n",
        "# Formally test all candidates\n",
        "for candidate_pair in candidates_ext:\n",
        "  df_dm_cons_ext = df_dm.copy()\n",
        "  for pair in all_pairs:\n",
        "    if set(pair) not in conn_pairs_set and set(pair)!=set(candidate_pair[0]) and set(pair)!=set(candidate_pair[1]):\n",
        "      df_dm_cons_ext.loc[pair[0],pair[1]] = 1000\n",
        "\n",
        "  np.fill_diagonal(df_dm_cons_ext.values,0.0)\n",
        "\n",
        "  best_route,min_dist = tsp_solve.brute_force(np.array(df_dm_cons_ext))\n",
        "  best_route = [mapping[i] for i in best_route]\n",
        "  summary_ext.append([candidate_pair,best_route,min_dist])\n",
        "\n",
        "df_summary_ext = pd.DataFrame(summary_ext,columns=['new_connection','best_route','shortest_distance'])"
      ],
      "metadata": {
        "id": "OuNB0_PTg7eF"
      },
      "execution_count": null,
      "outputs": []
    },
    {
      "cell_type": "code",
      "source": [
        "# Summary of best route and shortest travel distance\n",
        "df_summary_ext"
      ],
      "metadata": {
        "colab": {
          "base_uri": "https://localhost:8080/",
          "height": 419
        },
        "id": "2CtOZI-AzD9c",
        "outputId": "5dfa545c-d8d8-4fde-9553-3a20d1f54e38"
      },
      "execution_count": null,
      "outputs": [
        {
          "output_type": "execute_result",
          "data": {
            "text/plain": [
              "       new_connection                   best_route  shortest_distance\n",
              "0    ((A, E), (A, F))  [A, B, C, D, E, H, G, F, A]        1681.040563\n",
              "1    ((A, E), (A, G))  [A, E, F, G, H, D, C, B, A]        3101.996612\n",
              "2    ((A, E), (A, H))  [A, E, H, G, F, D, C, B, A]        1110.691533\n",
              "3    ((A, E), (B, E))  [A, D, C, B, F, G, H, E, A]        2924.691533\n",
              "4    ((A, E), (B, F))  [A, D, C, B, F, G, H, E, A]          41.691533\n",
              "..                ...                          ...                ...\n",
              "115  ((D, E), (D, G))  [A, B, C, D, G, F, E, H, A]        2214.289013\n",
              "116  ((D, E), (D, H))  [A, B, C, E, F, G, H, D, A]        1831.701934\n",
              "117  ((D, F), (D, G))  [A, D, F, G, H, E, C, B, A]        2148.568427\n",
              "118  ((D, F), (D, H))  [A, B, C, D, H, G, F, E, A]        2601.701934\n",
              "119  ((D, G), (D, H))  [A, B, C, D, H, G, F, E, A]        1850.701934\n",
              "\n",
              "[120 rows x 3 columns]"
            ],
            "text/html": [
              "\n",
              "  <div id=\"df-5ee2af40-1240-4fc6-a896-7f25d8f2df0a\">\n",
              "    <div class=\"colab-df-container\">\n",
              "      <div>\n",
              "<style scoped>\n",
              "    .dataframe tbody tr th:only-of-type {\n",
              "        vertical-align: middle;\n",
              "    }\n",
              "\n",
              "    .dataframe tbody tr th {\n",
              "        vertical-align: top;\n",
              "    }\n",
              "\n",
              "    .dataframe thead th {\n",
              "        text-align: right;\n",
              "    }\n",
              "</style>\n",
              "<table border=\"1\" class=\"dataframe\">\n",
              "  <thead>\n",
              "    <tr style=\"text-align: right;\">\n",
              "      <th></th>\n",
              "      <th>new_connection</th>\n",
              "      <th>best_route</th>\n",
              "      <th>shortest_distance</th>\n",
              "    </tr>\n",
              "  </thead>\n",
              "  <tbody>\n",
              "    <tr>\n",
              "      <th>0</th>\n",
              "      <td>((A, E), (A, F))</td>\n",
              "      <td>[A, B, C, D, E, H, G, F, A]</td>\n",
              "      <td>1681.040563</td>\n",
              "    </tr>\n",
              "    <tr>\n",
              "      <th>1</th>\n",
              "      <td>((A, E), (A, G))</td>\n",
              "      <td>[A, E, F, G, H, D, C, B, A]</td>\n",
              "      <td>3101.996612</td>\n",
              "    </tr>\n",
              "    <tr>\n",
              "      <th>2</th>\n",
              "      <td>((A, E), (A, H))</td>\n",
              "      <td>[A, E, H, G, F, D, C, B, A]</td>\n",
              "      <td>1110.691533</td>\n",
              "    </tr>\n",
              "    <tr>\n",
              "      <th>3</th>\n",
              "      <td>((A, E), (B, E))</td>\n",
              "      <td>[A, D, C, B, F, G, H, E, A]</td>\n",
              "      <td>2924.691533</td>\n",
              "    </tr>\n",
              "    <tr>\n",
              "      <th>4</th>\n",
              "      <td>((A, E), (B, F))</td>\n",
              "      <td>[A, D, C, B, F, G, H, E, A]</td>\n",
              "      <td>41.691533</td>\n",
              "    </tr>\n",
              "    <tr>\n",
              "      <th>...</th>\n",
              "      <td>...</td>\n",
              "      <td>...</td>\n",
              "      <td>...</td>\n",
              "    </tr>\n",
              "    <tr>\n",
              "      <th>115</th>\n",
              "      <td>((D, E), (D, G))</td>\n",
              "      <td>[A, B, C, D, G, F, E, H, A]</td>\n",
              "      <td>2214.289013</td>\n",
              "    </tr>\n",
              "    <tr>\n",
              "      <th>116</th>\n",
              "      <td>((D, E), (D, H))</td>\n",
              "      <td>[A, B, C, E, F, G, H, D, A]</td>\n",
              "      <td>1831.701934</td>\n",
              "    </tr>\n",
              "    <tr>\n",
              "      <th>117</th>\n",
              "      <td>((D, F), (D, G))</td>\n",
              "      <td>[A, D, F, G, H, E, C, B, A]</td>\n",
              "      <td>2148.568427</td>\n",
              "    </tr>\n",
              "    <tr>\n",
              "      <th>118</th>\n",
              "      <td>((D, F), (D, H))</td>\n",
              "      <td>[A, B, C, D, H, G, F, E, A]</td>\n",
              "      <td>2601.701934</td>\n",
              "    </tr>\n",
              "    <tr>\n",
              "      <th>119</th>\n",
              "      <td>((D, G), (D, H))</td>\n",
              "      <td>[A, B, C, D, H, G, F, E, A]</td>\n",
              "      <td>1850.701934</td>\n",
              "    </tr>\n",
              "  </tbody>\n",
              "</table>\n",
              "<p>120 rows × 3 columns</p>\n",
              "</div>\n",
              "      <button class=\"colab-df-convert\" onclick=\"convertToInteractive('df-5ee2af40-1240-4fc6-a896-7f25d8f2df0a')\"\n",
              "              title=\"Convert this dataframe to an interactive table.\"\n",
              "              style=\"display:none;\">\n",
              "        \n",
              "  <svg xmlns=\"http://www.w3.org/2000/svg\" height=\"24px\"viewBox=\"0 0 24 24\"\n",
              "       width=\"24px\">\n",
              "    <path d=\"M0 0h24v24H0V0z\" fill=\"none\"/>\n",
              "    <path d=\"M18.56 5.44l.94 2.06.94-2.06 2.06-.94-2.06-.94-.94-2.06-.94 2.06-2.06.94zm-11 1L8.5 8.5l.94-2.06 2.06-.94-2.06-.94L8.5 2.5l-.94 2.06-2.06.94zm10 10l.94 2.06.94-2.06 2.06-.94-2.06-.94-.94-2.06-.94 2.06-2.06.94z\"/><path d=\"M17.41 7.96l-1.37-1.37c-.4-.4-.92-.59-1.43-.59-.52 0-1.04.2-1.43.59L10.3 9.45l-7.72 7.72c-.78.78-.78 2.05 0 2.83L4 21.41c.39.39.9.59 1.41.59.51 0 1.02-.2 1.41-.59l7.78-7.78 2.81-2.81c.8-.78.8-2.07 0-2.86zM5.41 20L4 18.59l7.72-7.72 1.47 1.35L5.41 20z\"/>\n",
              "  </svg>\n",
              "      </button>\n",
              "      \n",
              "  <style>\n",
              "    .colab-df-container {\n",
              "      display:flex;\n",
              "      flex-wrap:wrap;\n",
              "      gap: 12px;\n",
              "    }\n",
              "\n",
              "    .colab-df-convert {\n",
              "      background-color: #E8F0FE;\n",
              "      border: none;\n",
              "      border-radius: 50%;\n",
              "      cursor: pointer;\n",
              "      display: none;\n",
              "      fill: #1967D2;\n",
              "      height: 32px;\n",
              "      padding: 0 0 0 0;\n",
              "      width: 32px;\n",
              "    }\n",
              "\n",
              "    .colab-df-convert:hover {\n",
              "      background-color: #E2EBFA;\n",
              "      box-shadow: 0px 1px 2px rgba(60, 64, 67, 0.3), 0px 1px 3px 1px rgba(60, 64, 67, 0.15);\n",
              "      fill: #174EA6;\n",
              "    }\n",
              "\n",
              "    [theme=dark] .colab-df-convert {\n",
              "      background-color: #3B4455;\n",
              "      fill: #D2E3FC;\n",
              "    }\n",
              "\n",
              "    [theme=dark] .colab-df-convert:hover {\n",
              "      background-color: #434B5C;\n",
              "      box-shadow: 0px 1px 3px 1px rgba(0, 0, 0, 0.15);\n",
              "      filter: drop-shadow(0px 1px 2px rgba(0, 0, 0, 0.3));\n",
              "      fill: #FFFFFF;\n",
              "    }\n",
              "  </style>\n",
              "\n",
              "      <script>\n",
              "        const buttonEl =\n",
              "          document.querySelector('#df-5ee2af40-1240-4fc6-a896-7f25d8f2df0a button.colab-df-convert');\n",
              "        buttonEl.style.display =\n",
              "          google.colab.kernel.accessAllowed ? 'block' : 'none';\n",
              "\n",
              "        async function convertToInteractive(key) {\n",
              "          const element = document.querySelector('#df-5ee2af40-1240-4fc6-a896-7f25d8f2df0a');\n",
              "          const dataTable =\n",
              "            await google.colab.kernel.invokeFunction('convertToInteractive',\n",
              "                                                     [key], {});\n",
              "          if (!dataTable) return;\n",
              "\n",
              "          const docLinkHtml = 'Like what you see? Visit the ' +\n",
              "            '<a target=\"_blank\" href=https://colab.research.google.com/notebooks/data_table.ipynb>data table notebook</a>'\n",
              "            + ' to learn more about interactive tables.';\n",
              "          element.innerHTML = '';\n",
              "          dataTable['output_type'] = 'display_data';\n",
              "          await google.colab.output.renderOutput(dataTable, element);\n",
              "          const docLink = document.createElement('div');\n",
              "          docLink.innerHTML = docLinkHtml;\n",
              "          element.appendChild(docLink);\n",
              "        }\n",
              "      </script>\n",
              "    </div>\n",
              "  </div>\n",
              "  "
            ]
          },
          "metadata": {},
          "execution_count": 363
        }
      ]
    },
    {
      "cell_type": "code",
      "source": [
        "# Select and plot the best connection to add\n",
        "best_candidate = df_summary_ext.iloc[np.argmin(df_summary_ext['shortest_distance']),:]\n",
        "new_connection = best_candidate['new_connection']\n",
        "best_route = best_candidate['best_route']\n",
        "min_dist = best_candidate['shortest_distance']\n",
        "\n",
        "print('Nodes {} should be connected.'.format(new_connection))\n",
        "print('The optimal route is {}.'.format(best_route))\n",
        "print('The shortest travel distance after the addition is {}.'.format(min_dist))"
      ],
      "metadata": {
        "colab": {
          "base_uri": "https://localhost:8080/"
        },
        "id": "-9hUT5zIzJhf",
        "outputId": "fe5af8ff-1061-4bf1-f7ac-76cae34c9863"
      },
      "execution_count": null,
      "outputs": [
        {
          "output_type": "stream",
          "name": "stdout",
          "text": [
            "Nodes (('B', 'F'), ('C', 'G')) should be connected.\n",
            "The optimal route is ['A', 'B', 'F', 'E', 'H', 'G', 'C', 'D', 'A'].\n",
            "The shortest travel distance after the addition is 40.35468909779105.\n"
          ]
        }
      ]
    },
    {
      "cell_type": "code",
      "source": [
        "# Visualize the best route\n",
        "f,a = plt.subplots(1,2)\n",
        "\n",
        "route_idx = [labels.index(i) for i in best_route]\n",
        "\n",
        "# Plot 1\n",
        "for i in range(4):\n",
        "  a[0].plot(x_cor_inner[i],y_cor_inner[i],'ro-')\n",
        "  a[0].plot(x_cor_outer[i],y_cor_outer[i],'go-')\n",
        "\n",
        "for i in range(len(route_idx)-1):\n",
        "  a[0].plot([x_cor[route_idx[i]],x_cor[route_idx[i+1]]],[y_cor[route_idx[i]],y_cor[route_idx[i+1]]],'bo-')\n",
        "\n",
        "for i,label in enumerate(labels):\n",
        "  a[0].annotate(label,(x_cor[i],y_cor[i]),xytext=(x_cor[i],y_cor[i]+0.3))\n",
        "\n",
        "a[0].set_xlim(0,max(x_cor)*1.1)\n",
        "a[0].set_ylim(0,max(y_cor)*1.1)\n",
        "\n",
        "# Plot 2\n",
        "for i in range(4):\n",
        "  if i==0:\n",
        "    a[1].plot([x_cor_inner[i],x_cor_inner[-1]],[y_cor_inner[i],y_cor_inner[-1]],'ro-')\n",
        "    a[1].plot([x_cor_outer[i],x_cor_outer[-1]],[y_cor_outer[i],y_cor_outer[-1]],'go-')\n",
        "  a[1].plot(x_cor_inner[i:i+2],y_cor_inner[i:i+2],'ro-')\n",
        "  a[1].plot(x_cor_outer[i:i+2],y_cor_outer[i:i+2],'go-')\n",
        "\n",
        "for i in range(len(route_idx)-1):\n",
        "  a[1].plot([x_cor[route_idx[i]],x_cor[route_idx[i+1]]],[y_cor[route_idx[i]],y_cor[route_idx[i+1]]],'bo-')\n",
        "\n",
        "for i,label in enumerate(labels):\n",
        "  a[1].annotate(label,(x_cor[i],y_cor[i]),xytext=(x_cor[i],y_cor[i]+0.3))\n",
        "\n",
        "a[1].set_xlim(0,max(x_cor)*1.1)\n",
        "a[1].set_ylim(0,max(y_cor)*1.1)\n",
        "\n",
        "plt.show()"
      ],
      "metadata": {
        "colab": {
          "base_uri": "https://localhost:8080/",
          "height": 265
        },
        "id": "ERTY_5CJzZ3s",
        "outputId": "f323e4b0-6105-4907-af61-aafa21b0e11a"
      },
      "execution_count": null,
      "outputs": [
        {
          "output_type": "display_data",
          "data": {
            "text/plain": [
              "<Figure size 432x288 with 2 Axes>"
            ],
            "image/png": "[encoded data removed]"
          },
          "metadata": {
            "needs_background": "light"
          }
        }
      ]
    },
    {
      "cell_type": "markdown",
      "source": [
        "In our specific example, we obtain the same travel path as the one additional connection problem at a much shorter total travel distance. The algorithm endogenously suggests connecting nodes C and G on in addition to B and F. \n",
        "\n",
        "The solution method can be generalized to different set of node coordinates and initial connection specification. Users simply need to adjust the distance matrix according. "
      ],
      "metadata": {
        "id": "2cEsNlsu5hX1"
      }
    },
    {
      "cell_type": "markdown",
      "source": [
        "### High Dimensional Cases"
      ],
      "metadata": {
        "id": "xjzCfeVn6Ugz"
      }
    },
    {
      "cell_type": "markdown",
      "source": [
        "**Hueristic Solutions**"
      ],
      "metadata": {
        "id": "pg93CPYf6vN2"
      }
    },
    {
      "cell_type": "code",
      "source": [
        ""
      ],
      "metadata": {
        "id": "QvybVOfnHYPj"
      },
      "execution_count": null,
      "outputs": []
    },
    {
      "cell_type": "markdown",
      "source": [
        "*Savings Algorithm*"
      ],
      "metadata": {
        "id": "kAoaKTEY686X"
      }
    },
    {
      "cell_type": "code",
      "source": [
        ""
      ],
      "metadata": {
        "id": "kE31QYpoHYZy"
      },
      "execution_count": null,
      "outputs": []
    },
    {
      "cell_type": "markdown",
      "source": [
        "*Sweeping Algorithm (with Pre-Defined Radius)*"
      ],
      "metadata": {
        "id": "_AChaTPY7FpT"
      }
    },
    {
      "cell_type": "code",
      "source": [
        ""
      ],
      "metadata": {
        "id": "2dHxmBudHYkC"
      },
      "execution_count": null,
      "outputs": []
    }
  ],
  "metadata": {
    "kernelspec": {
      "display_name": "Python 3",
      "language": "python",
      "name": "python3"
    },
    "language_info": {
      "codemirror_mode": {
        "name": "ipython",
        "version": 3
      },
      "file_extension": ".py",
      "mimetype": "text/x-python",
      "name": "python",
      "nbconvert_exporter": "python",
      "pygments_lexer": "ipython3",
      "version": "3.8.8"
    },
    "colab": {
      "name": "ece598_group_tsp-solution.ipynb",
      "provenance": [],
      "collapsed_sections": []
    }
  },
  "nbformat": 4,
  "nbformat_minor": 0
}